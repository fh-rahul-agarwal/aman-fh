{
 "cells": [
  {
   "cell_type": "code",
   "execution_count": 1,
   "metadata": {},
   "outputs": [],
   "source": [
    "from processing.date_focused_working.pillarsWorking import PillarsDataProcessor"
   ]
  },
  {
   "cell_type": "code",
   "execution_count": 2,
   "metadata": {},
   "outputs": [],
   "source": [
    "xml_path = r'C:\\Users\\amank\\Downloads\\Fithack\\Automation\\export.xml'\n",
    "user_name = \"5cbdc5c5-2793-452b-a95d-0dbd3a8719ce\"\n",
    "folder_path_toSave = r'C:\\Users\\amank\\Downloads\\Fithack\\local_files'\n",
    "remarks = 'test_90'\n",
    "start_date = '2024-09-19'\n",
    "days_offset = 90\n",
    "offset_sign = '-'"
   ]
  },
  {
   "cell_type": "code",
   "execution_count": 3,
   "metadata": {},
   "outputs": [],
   "source": [
    "processor = PillarsDataProcessor(xml_path, user_name, start_date, days_offset, offset_sign)"
   ]
  },
  {
   "cell_type": "code",
   "execution_count": 4,
   "metadata": {},
   "outputs": [
    {
     "name": "stdout",
     "output_type": "stream",
     "text": [
      "Vitality Data saved to C:\\Users\\amank\\Downloads\\Fithack\\local_files/test_30_vitality_data.xlsx\n",
      "Activity Data saved to C:\\Users\\amank\\Downloads\\Fithack\\local_files/test_30_activity_data.xlsx\n",
      "Sleep Data saved to C:\\Users\\amank\\Downloads\\Fithack\\local_files/test_30_sleep_data.xlsx\n",
      "Workout Data saved to C:\\Users\\amank\\Downloads\\Fithack\\local_files/test_30_workout_data.xlsx\n"
     ]
    }
   ],
   "source": [
    "processor.saveExcel(folder_path_toSave, remarks)"
   ]
  }
 ],
 "metadata": {
  "kernelspec": {
   "display_name": "Python 3",
   "language": "python",
   "name": "python3"
  },
  "language_info": {
   "codemirror_mode": {
    "name": "ipython",
    "version": 3
   },
   "file_extension": ".py",
   "mimetype": "text/x-python",
   "name": "python",
   "nbconvert_exporter": "python",
   "pygments_lexer": "ipython3",
   "version": "3.11.9"
  }
 },
 "nbformat": 4,
 "nbformat_minor": 2
}
