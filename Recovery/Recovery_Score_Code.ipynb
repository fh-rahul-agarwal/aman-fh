{
  "cells": [
    {
      "cell_type": "code",
      "execution_count": 1,
      "metadata": {
        "id": "uTSpaFcwV5AV"
      },
      "outputs": [],
      "source": [
        "import pandas as pd\n",
        "from datetime import timedelta\n",
        "import numpy as np\n",
        "from sklearn.linear_model import LinearRegression\n",
        "\n",
        "# Part 1: Fetch Data from Excel Sheets\n",
        "def fetch_data(file_path, sheet_name):\n",
        "    # Load the user data from Excel\n",
        "    data = pd.read_excel(file_path, sheet_name=sheet_name)\n",
        "    if 'startDate' in data.columns and 'endDate' in data.columns:\n",
        "        data['startDate'] = pd.to_datetime(data['startDate'])\n",
        "        data['endDate'] = pd.to_datetime(data['endDate'])\n",
        "    elif 'date' in data.columns:\n",
        "        data['date'] = pd.to_datetime(data['date'])\n",
        "    else:\n",
        "        return data\n",
        "    return data\n"
      ]
    },
    {
      "cell_type": "code",
      "execution_count": 2,
      "metadata": {
        "id": "3AwS4oRB4bki"
      },
      "outputs": [],
      "source": [
        "# Part 2: HRV Recovery Score Calculation\n",
        "def calculate_hrv_recovery_score(merged_data, baseline_sdnn, baseline_rmssd):\n",
        "# def calculate_hrv_recovery_score(hrv_data, baseline_sdnn, baseline_rmssd):\n",
        "    hrv_metrics = {}\n",
        "    ideal_lf_hf_ratio = 1\n",
        "    w_sdnn,w_rmssd = 0.4,0.4\n",
        "\n",
        "    for date in merged_data['startDate'].unique():\n",
        "        current_sdnn = merged_data[merged_data['startDate'] == date]['SDNN (ms)'].values[0]\n",
        "        current_rmssd = merged_data[merged_data['startDate'] == date]['RMSSD (ms)'].values[0]\n",
        "        current_lf_hf_ratio = merged_data[merged_data['startDate'] == date]['LF/HF Ratio'].values[0]\n",
        "\n",
        "        # Calculate components relative to baseline\n",
        "        sdnn_component = current_sdnn / baseline_sdnn if baseline_sdnn > 0 else 0\n",
        "        rmssd_component = current_rmssd / baseline_rmssd if baseline_rmssd > 0 else 0\n",
        "        lf_hf_component = ideal_lf_hf_ratio / current_lf_hf_ratio if current_lf_hf_ratio > 0 else 0\n",
        "\n",
        "        # HRV Recovery Score with proposed weights\n",
        "        hrv_recovery_score = w_sdnn * sdnn_component + w_rmssd * rmssd_component + (1-(w_sdnn+w_rmssd)) * lf_hf_component\n",
        "        # hrv_recovery_score = 0.4 * sdnn_component + 0.4 * rmssd_component\n",
        "\n",
        "        hrv_metrics[date] = hrv_recovery_score\n",
        "\n",
        "    return hrv_metrics"
      ]
    },
    {
      "cell_type": "code",
      "execution_count": 3,
      "metadata": {
        "colab": {
          "base_uri": "https://localhost:8080/"
        },
        "id": "4lkQHmcer6fw",
        "outputId": "59a60a5f-6362-4ac0-fd00-d3717be7a09c"
      },
      "outputs": [
        {
          "name": "stdout",
          "output_type": "stream",
          "text": [
            "Index(['userName', 'valueGeneratedAt', 's_name', 'date', 'type', 'unit',\n",
            "       'valueType', 'value'],\n",
            "      dtype='object')\n"
          ]
        }
      ],
      "source": [
        "# Load the Excel file and the specific sheet\n",
        "file_path = r'C:\\Users\\amank\\Downloads\\Fithack\\Recovery\\vitality_extract_data.xlsx'  # Adjust the path if needed\n",
        "sheet_name = 'V_HR_Agg'  # The sheet containing RHR data\n",
        "\n",
        "# Read the Excel sheet into a pandas DataFrame\n",
        "df = pd.read_excel(file_path, sheet_name=sheet_name)\n",
        "\n",
        "# Convert the date column to datetime if it's not already\n",
        "df['date'] = pd.to_datetime(df['date'])\n",
        "\n",
        "# Sort data by date for easier indexing\n",
        "df = df.sort_values(by='date')\n",
        "\n",
        "print(df.columns)"
      ]
    },
    {
      "cell_type": "code",
      "execution_count": 4,
      "metadata": {
        "colab": {
          "base_uri": "https://localhost:8080/"
        },
        "id": "NyTUiOMBZTsH",
        "outputId": "86f1e00c-3a80-4446-cba6-34f729180f33"
      },
      "outputs": [
        {
          "name": "stdout",
          "output_type": "stream",
          "text": [
            "                               userName     valueGeneratedAt s_name  \\\n",
            "0  5cbdc5c5-2793-452b-a95d-0dbd3a8719ce  2024-10-02 20:53:43   V_HR   \n",
            "1  5cbdc5c5-2793-452b-a95d-0dbd3a8719ce  2024-10-02 20:53:43   V_HR   \n",
            "2  5cbdc5c5-2793-452b-a95d-0dbd3a8719ce  2024-10-02 20:53:43   V_HR   \n",
            "3  5cbdc5c5-2793-452b-a95d-0dbd3a8719ce  2024-10-02 20:53:43   V_HR   \n",
            "4  5cbdc5c5-2793-452b-a95d-0dbd3a8719ce  2024-10-02 20:53:43   V_HR   \n",
            "\n",
            "        date                               type       unit    valueType  value  \n",
            "0 2024-09-19  HKQuantityTypeIdentifierHeartRate  count/min       dayAvg   79.6  \n",
            "1 2024-09-19  HKQuantityTypeIdentifierHeartRate  count/min       dayMin   49.0  \n",
            "2 2024-09-19  HKQuantityTypeIdentifierHeartRate  count/min       dayMax  136.0  \n",
            "3 2024-09-19  HKQuantityTypeIdentifierHeartRate  count/min  activityAvg  100.6  \n",
            "4 2024-09-19  HKQuantityTypeIdentifierHeartRate  count/min  activityMin   59.0  \n",
            "valueType       date  activityAvg  activityMax  activityMin  dayAvg  dayMax  \\\n",
            "0         2024-06-21        101.1        124.0         60.0    78.6   130.0   \n",
            "1         2024-06-22         95.1        128.0         58.7    76.4   128.0   \n",
            "2         2024-06-23         95.5        122.0         68.0   101.9   155.0   \n",
            "3         2024-06-24        102.3        127.0         44.0    99.3   127.0   \n",
            "4         2024-06-25         96.0        132.0         55.0    83.4   132.0   \n",
            "..               ...          ...          ...          ...     ...     ...   \n",
            "86        2024-09-15        100.7        140.0         61.0    82.7   140.0   \n",
            "87        2024-09-16         98.4        126.0         64.0    95.7   131.0   \n",
            "88        2024-09-17         91.8        118.0         50.0    79.1   118.0   \n",
            "89        2024-09-18         91.1        118.0         49.0    78.8   118.0   \n",
            "90        2024-09-19        100.6        136.0         59.0    79.6   136.0   \n",
            "\n",
            "valueType  dayMin  restingAvg  restingMax  restingMin  sleepAvg  sleepMax  \\\n",
            "0            47.0        77.6       130.0        50.5      58.4      84.0   \n",
            "1            48.0        80.2       112.0        51.0      53.5      59.0   \n",
            "2            53.0        81.6       115.0        53.0       0.0       0.0   \n",
            "3            44.0        93.0       106.0        69.0       0.0       0.0   \n",
            "4            47.0        86.9       125.0        53.0      59.4      84.0   \n",
            "..            ...         ...         ...         ...       ...       ...   \n",
            "86           48.0        82.4       128.0        48.0      56.4      62.0   \n",
            "87           49.0        81.2       109.0        51.0      62.4      79.0   \n",
            "88           50.0        80.2       113.0        53.0      60.9      73.0   \n",
            "89           49.0        79.7       107.0        52.0      64.0      85.0   \n",
            "90           49.0        80.0       108.0        49.0      55.2      72.0   \n",
            "\n",
            "valueType  sleepMin  workoutAvg  workoutMax  workoutMin  \n",
            "0              47.0         0.0         0.0         0.0  \n",
            "1              48.0         0.0         0.0         0.0  \n",
            "2               0.0       111.2       155.0        86.0  \n",
            "3               0.0         0.0         0.0         0.0  \n",
            "4              47.0         0.0         0.0         0.0  \n",
            "..              ...         ...         ...         ...  \n",
            "86             51.9         0.0         0.0         0.0  \n",
            "87             49.0       120.6       131.0       100.0  \n",
            "88             50.0         0.0         0.0         0.0  \n",
            "89             53.0         0.0         0.0         0.0  \n",
            "90             49.0         0.0         0.0         0.0  \n",
            "\n",
            "[91 rows x 16 columns]\n",
            "Pivot table saved to C:\\Users\\amank\\Downloads\\Fithack\\Recovery\\V_HR_Agg_pivot_table.xlsx\n"
          ]
        }
      ],
      "source": [
        "# Load the Excel file and the specific sheet\n",
        "file_path = r'C:\\Users\\amank\\Downloads\\Fithack\\Recovery\\vitality_extract_data.xlsx'  # Adjust the path if needed\n",
        "sheet_name = 'V_HR_Agg'  # The sheet containing RHR data\n",
        "\n",
        "# Read the Excel sheet into a pandas DataFrame\n",
        "df = pd.read_excel(file_path, sheet_name=sheet_name)\n",
        "\n",
        "# Strip any leading/trailing spaces from the column names\n",
        "df.columns = df.columns.str.strip()\n",
        "\n",
        "# Convert the date column to datetime if it's not already\n",
        "df['date'] = pd.to_datetime(df['date'])\n",
        "\n",
        "# Check the structure of the DataFrame\n",
        "print(df.head())\n",
        "\n",
        "# Create the pivot table\n",
        "pivot_table = df.pivot_table(\n",
        "    index='date',            # Rows will be the date\n",
        "    columns='valueType',    # Columns will be the value type\n",
        "    values='value',         # Values to aggregate\n",
        "    aggfunc='sum',          # Aggregation function\n",
        "    fill_value=0            # Fill missing values with 0\n",
        ").reset_index()\n",
        "\n",
        "# Display the pivot table with the restingAvg column\n",
        "print(pivot_table)\n",
        "\n",
        "# Save the pivot table to a new Excel file\n",
        "output_file_path = r'C:\\Users\\amank\\Downloads\\Fithack\\Recovery\\V_HR_Agg_pivot_table.xlsx'\n",
        "pivot_table.to_excel(output_file_path, index=False)\n",
        "print(f\"Pivot table saved to {output_file_path}\")"
      ]
    },
    {
      "cell_type": "code",
      "execution_count": 5,
      "metadata": {
        "colab": {
          "base_uri": "https://localhost:8080/"
        },
        "id": "wFA2PEmKabGM",
        "outputId": "507c3b1e-5a26-4747-859c-b55980be5485"
      },
      "outputs": [
        {
          "name": "stdout",
          "output_type": "stream",
          "text": [
            "        date  activityAvg  activityMax  activityMin  dayAvg  dayMax  dayMin  \\\n",
            "0 2024-06-21        101.1          124         60.0    78.6     130    47.0   \n",
            "1 2024-06-22         95.1          128         58.7    76.4     128    48.0   \n",
            "2 2024-06-23         95.5          122         68.0   101.9     155    53.0   \n",
            "3 2024-06-24        102.3          127         44.0    99.3     127    44.0   \n",
            "4 2024-06-25         96.0          132         55.0    83.4     132    47.0   \n",
            "\n",
            "   restingAvg  restingMax  restingMin  sleepAvg  sleepMax  sleepMin  \\\n",
            "0        77.6       130.0        50.5      58.4      84.0      47.0   \n",
            "1        80.2       112.0        51.0      53.5      59.0      48.0   \n",
            "2        81.6       115.0        53.0       0.0       0.0       0.0   \n",
            "3        93.0       106.0        69.0       0.0       0.0       0.0   \n",
            "4        86.9       125.0        53.0      59.4      84.0      47.0   \n",
            "\n",
            "   workoutAvg  workoutMax  workoutMin  \n",
            "0         0.0           0           0  \n",
            "1         0.0           0           0  \n",
            "2       111.2         155          86  \n",
            "3         0.0           0           0  \n",
            "4         0.0           0           0  \n"
          ]
        }
      ],
      "source": [
        "# Path to the pivot table Excel file\n",
        "pivot_file_path = r'C:\\Users\\amank\\Downloads\\Fithack\\Recovery\\V_HR_Agg_pivot_table.xlsx'  # Adjust the path as necessary\n",
        "\n",
        "# Load the pivot table Excel sheet into a DataFrame\n",
        "pivot_df = pd.read_excel(pivot_file_path)\n",
        "\n",
        "# Display the first few rows of the DataFrame\n",
        "print(pivot_df.head())"
      ]
    },
    {
      "cell_type": "code",
      "execution_count": 6,
      "metadata": {
        "colab": {
          "base_uri": "https://localhost:8080/"
        },
        "id": "eU4B9Gq8YNPK",
        "outputId": "b23dc96f-6ce5-4135-9364-0b2e4a30a658"
      },
      "outputs": [
        {
          "name": "stdout",
          "output_type": "stream",
          "text": [
            "         date  restingAvg  baseline_rhr\n",
            "0  2024-06-21        77.6     77.600000\n",
            "1  2024-06-22        80.2     78.900000\n",
            "2  2024-06-23        81.6     79.800000\n",
            "3  2024-06-24        93.0     83.100000\n",
            "4  2024-06-25        86.9     83.860000\n",
            "..        ...         ...           ...\n",
            "86 2024-09-15        82.4     81.134483\n",
            "87 2024-09-16        81.2     81.135227\n",
            "88 2024-09-17        80.2     81.124719\n",
            "89 2024-09-18        79.7     81.108889\n",
            "90 2024-09-19        80.0     81.096703\n",
            "\n",
            "[91 rows x 3 columns]\n",
            "Baseline RHR data saved to C:\\Users\\amank\\Downloads\\Fithack\\Recovery\\baseline_rhr_output.xlsx\n"
          ]
        }
      ],
      "source": [
        "# Function to calculate baseline RHR for each day based on the last 90 days or the minimum available date\n",
        "def calculate_baseline_rhr(df):\n",
        "    baseline_rhr = []\n",
        "\n",
        "    for idx, row in df.iterrows():\n",
        "        current_date = row['date']\n",
        "\n",
        "        # Rolling 90-day Window: For each date, the script looks back 90 days or uses the minimum available date, whichever is more recent.\n",
        "        baseline_start = max(df['date'].min(), current_date - timedelta(days=90))\n",
        "\n",
        "        # Filter the data to get the baseline period\n",
        "        baseline_period = df[(df['date'] >= baseline_start) & (df['date'] <= current_date)]\n",
        "\n",
        "        # Calculate the average resting heart rate during the baseline period\n",
        "        avg_rhr = baseline_period['restingAvg'].mean()\n",
        "\n",
        "        # Append the baseline RHR for the current date\n",
        "        baseline_rhr.append(avg_rhr)\n",
        "\n",
        "    # Create a new column in the DataFrame for the baseline RHR\n",
        "    df['baseline_rhr'] = baseline_rhr\n",
        "\n",
        "    return df\n",
        "\n",
        "# Apply the function to the DataFrame\n",
        "df_with_baseline_rhr = calculate_baseline_rhr(pivot_df)\n",
        "\n",
        "# Display the first few rows of the DataFrame with baseline RHR\n",
        "print(df_with_baseline_rhr[['date', 'restingAvg', 'baseline_rhr']])\n",
        "\n",
        "# Save the output to a new Excel file if needed\n",
        "output_file_path = r'C:\\Users\\amank\\Downloads\\Fithack\\Recovery\\baseline_rhr_output.xlsx'\n",
        "df_with_baseline_rhr.to_excel(output_file_path, index=False)\n",
        "print(f\"Baseline RHR data saved to {output_file_path}\")"
      ]
    },
    {
      "cell_type": "code",
      "execution_count": 7,
      "metadata": {
        "id": "lLdfoQ3fWPju"
      },
      "outputs": [],
      "source": [
        "def calculate_rhr_recovery_score(rhr_data, baseline_rhr):\n",
        "    rhr_metrics = {}\n",
        "\n",
        "    for date in rhr_data['date'].unique():\n",
        "        current_rhr = rhr_data[rhr_data['date'] == date]['restingAvg'].values[0]\n",
        "        rhr_recovery_score = (baseline_rhr - current_rhr) / baseline_rhr\n",
        "\n",
        "        rhr_metrics[date] = rhr_recovery_score\n",
        "\n",
        "    return rhr_metrics"
      ]
    },
    {
      "cell_type": "code",
      "execution_count": 8,
      "metadata": {
        "id": "Z7Lm8-BQRZOh"
      },
      "outputs": [],
      "source": [
        "# Part 4: Sleep Recovery Score Calculation\n",
        "def calculate_sleep_recovery_score(sleep_data):\n",
        "    sleep_metrics = {}\n",
        "    w_ts, w_ds, w_rs, w_sqi = 0.30, 0.25, 0.20, 0.25\n",
        "    w_se, w_sol, w_waso, w_sqr = 0.4, 0.2, 0.2, 0.2\n",
        "\n",
        "    for date in sleep_data['date'].unique():\n",
        "        total_sleep = sleep_data[sleep_data['date'] == date]['TotalSleepDuration'].values[0]\n",
        "        deep_sleep = sleep_data[sleep_data['date'] == date]['TotalDeepSleepDuration'].values[0]\n",
        "        rem_sleep = sleep_data[sleep_data['date'] == date]['TotalREMSleepDuration'].values[0]\n",
        "\n",
        "        # Calculate sleep efficiency, onset latency (SOL), wake after sleep onset (WASO)\n",
        "        total_in_bed_duration = sleep_data[sleep_data['date'] == date]['TotalInBedDuration'].values[0]\n",
        "        sleep_efficiency = (total_sleep / total_in_bed_duration) * 100\n",
        "        sol_time = sleep_data[sleep_data['date'] == date]['SOL'].values[0]\n",
        "        waso_time = sleep_data[sleep_data['date'] == date]['WASO'].values[0]\n",
        "\n",
        "        # SOL and WASO score\n",
        "        sol_score = 100 - (sol_time / 10)\n",
        "        waso_score = 100 - (waso_time / 10)\n",
        "\n",
        "        if 'SleepQualityRating' in sleep_data.columns:\n",
        "            sleep_quality_rating = sleep_data[sleep_data['date'] == date]['SleepQualityRating'].values[0]\n",
        "            sqi = w_se * sleep_efficiency + w_sol * sol_score + w_waso * waso_score + w_sqr * sleep_quality_rating\n",
        "        else:\n",
        "            sqi = w_se * sleep_efficiency + w_sol * sol_score + w_waso * waso_score\n",
        "        \n",
        "\n",
        "\n",
        "        # Sleep Quality Index (SQI)\n",
        "        \n",
        "\n",
        "        # Final Sleep Recovery Score\n",
        "        sleep_recovery_score = (\n",
        "            w_ts * total_sleep +\n",
        "            w_ds * deep_sleep +\n",
        "            w_rs * rem_sleep +\n",
        "            w_sqi * sqi\n",
        "        )\n",
        "\n",
        "        sleep_metrics[date] = sleep_recovery_score\n",
        "\n",
        "    return sleep_metrics"
      ]
    },
    {
      "cell_type": "code",
      "execution_count": 9,
      "metadata": {
        "id": "ucmX7CF7zMPT"
      },
      "outputs": [],
      "source": [
        "# Part 5: Wellness Recovery Score Calculation\n",
        "def calculate_wellness_recovery_score(wellness_data):\n",
        "    wellness_metrics = {}\n",
        "\n",
        "    for date in wellness_data['date'].unique():\n",
        "        mood = wellness_data[wellness_data['date'] == date]['Mood'].values[0]\n",
        "        fatigue = wellness_data[wellness_data['date'] == date]['Fatigue'].values[0]\n",
        "        soreness = wellness_data[wellness_data['date'] == date]['Soreness'].values[0]\n",
        "        stress = wellness_data[wellness_data['date'] == date]['Stress'].values[0]\n",
        "\n",
        "        # Wellness Recovery Score\n",
        "        wellness_recovery_score = 0.30 * mood + 0.25 * fatigue + 0.20 * soreness + 0.25 * stress\n",
        "\n",
        "        wellness_metrics[date] = wellness_recovery_score\n",
        "\n",
        "    return wellness_metrics"
      ]
    },
    {
      "cell_type": "code",
      "execution_count": 26,
      "metadata": {},
      "outputs": [
        {
          "name": "stdout",
          "output_type": "stream",
          "text": [
            "{Timestamp('2024-09-01 00:00:00'): 6.45, Timestamp('2024-09-02 00:00:00'): 4.300000000000001, Timestamp('2024-09-03 00:00:00'): 3.3, Timestamp('2024-09-04 00:00:00'): 5.6499999999999995, Timestamp('2024-09-05 00:00:00'): 3.7, Timestamp('2024-09-06 00:00:00'): 5.7, Timestamp('2024-09-07 00:00:00'): 5.45, Timestamp('2024-09-08 00:00:00'): 7.300000000000001, Timestamp('2024-09-09 00:00:00'): 4.75, Timestamp('2024-09-10 00:00:00'): 3.25}\n"
          ]
        }
      ],
      "source": [
        "# Create dummy wellness data\n",
        "dummy_wellness_data = pd.DataFrame({\n",
        "    'date': pd.date_range(start='2024-09-01', periods=10, freq='D'),\n",
        "    'Mood': np.random.randint(1, 10, size=10),\n",
        "    'Fatigue': np.random.randint(1, 10, size=10),\n",
        "    'Soreness': np.random.randint(1, 10, size=10),\n",
        "    'Stress': np.random.randint(1, 10, size=10)\n",
        "})\n",
        "\n",
        "# Display the dummy wellness data\n",
        "# print(dummy_wellness_data)\n",
        "\n",
        "# Calculate wellness recovery score using the dummy data\n",
        "dummy_wellness_recovery_score = calculate_wellness_recovery_score(dummy_wellness_data)\n",
        "\n",
        "# Display the dummy wellness recovery score\n",
        "print(dummy_wellness_recovery_score)"
      ]
    },
    {
      "cell_type": "code",
      "execution_count": 11,
      "metadata": {
        "id": "gMF-oTmIzgqq"
      },
      "outputs": [],
      "source": [
        "# Part 6: Training Load Modulation Calculation\n",
        "def calculate_training_load_modulation(load_data, strain_data):\n",
        "    training_load_metrics = {}\n",
        "    w_cr = 0.5\n",
        "    for date in load_data['date'].unique():\n",
        "        current_load = load_data[load_data['date'] == date]['CurrentLoad'].values[0]\n",
        "        strain_score = strain_data[strain_data['date'] == date]['StrainScore'].values[0]\n",
        "\n",
        "        # Training Load Modulation\n",
        "        training_load_modulation = w_cr * current_load + 1-w_cr * strain_score\n",
        "\n",
        "        training_load_metrics[date] = training_load_modulation\n",
        "\n",
        "    return training_load_metrics"
      ]
    },
    {
      "cell_type": "code",
      "execution_count": 54,
      "metadata": {},
      "outputs": [],
      "source": [
        "dummy_training_load_modulation = {}\n",
        "dummy_wellness_recovery_score = {}"
      ]
    },
    {
      "cell_type": "code",
      "execution_count": 12,
      "metadata": {},
      "outputs": [
        {
          "name": "stdout",
          "output_type": "stream",
          "text": [
            "           date  RMSSD (ms)  baseline_hrv\n",
            "0    2024-09-19       80.86     59.646028\n",
            "1    2024-09-19       85.16     59.646028\n",
            "2    2024-09-19      132.21     59.646028\n",
            "3    2024-09-19      108.03     59.646028\n",
            "4    2024-09-19       86.70     59.646028\n",
            "..          ...         ...           ...\n",
            "909  2024-06-21       24.93     79.571818\n",
            "910  2024-06-21      127.72     79.571818\n",
            "911  2024-06-21      180.76     79.571818\n",
            "912  2024-06-21       36.53     79.571818\n",
            "913  2024-06-21       24.99     79.571818\n",
            "\n",
            "[914 rows x 3 columns]\n",
            "Baseline HRV data saved to C:\\Users\\amank\\Downloads\\Fithack\\Recovery\\baseline_hrv_output.xlsx\n"
          ]
        }
      ],
      "source": [
        "# Function to calculate baseline HRV for each day based on the last 90 days or the minimum available date\n",
        "def calculate_baseline_hrv(df):\n",
        "    baseline_hrv = []\n",
        "    df['creationDate'] = pd.to_datetime(df['creationDate']).dt.date\n",
        "    for idx, row in df.iterrows():\n",
        "        current_date = row['creationDate']\n",
        "\n",
        "        # Rolling 90-day Window: For each date, the script looks back 90 days or uses the minimum available date, whichever is more recent.\n",
        "        baseline_start = max(df['creationDate'].min(), current_date - timedelta(days=90))\n",
        "\n",
        "        # Filter the data to get the baseline period\n",
        "        baseline_period = df[(df['creationDate'] >= baseline_start) & (df['creationDate'] <= current_date)]\n",
        "\n",
        "        # Calculate the average RMSSD during the baseline period\n",
        "        avg_hrv = baseline_period['RMSSD (ms)'].mean()\n",
        "\n",
        "        # Append the baseline HRV for the current date\n",
        "        baseline_hrv.append(avg_hrv)\n",
        "\n",
        "    # Create a new column in the DataFrame for the baseline HRV\n",
        "    df['baseline_hrv'] = baseline_hrv\n",
        "    df['date'] = df['creationDate']\n",
        "\n",
        "    return df\n",
        "\n",
        "\n",
        "file_path_prophrv = r'C:\\Users\\amank\\Downloads\\Fithack\\Recovery\\PropHRV.xlsx'\n",
        "df = fetch_data(file_path_prophrv, 'VPropHRV')\n",
        "\n",
        "# Apply the function to the DataFrame\n",
        "df_with_baseline_hrv = calculate_baseline_hrv(df)\n",
        "\n",
        "# Display the first few rows of the DataFrame with baseline HRV\n",
        "print(df_with_baseline_hrv[['date', 'RMSSD (ms)', 'baseline_hrv']])\n",
        "\n",
        "# Save the output to a new Excel file if needed\n",
        "output_file_path = r'C:\\Users\\amank\\Downloads\\Fithack\\Recovery\\baseline_hrv_output.xlsx'\n",
        "df_with_baseline_hrv.to_excel(output_file_path, index=False)\n",
        "print(f\"Baseline HRV data saved to {output_file_path}\")\n"
      ]
    },
    {
      "cell_type": "code",
      "execution_count": 37,
      "metadata": {},
      "outputs": [],
      "source": [
        "# Part 7: HRV Modulation Adjustment Calculation (Linear Regression)\n",
        "def calculate_hrv_modulation_adjustment(hrv_data, baseline_hrv):\n",
        "    hrv_modulation_metrics = {}\n",
        "\n",
        "    for date in hrv_data['date'].unique():\n",
        "        recent_trend_data = hrv_data[hrv_data['date'] <= date].tail(7)  # last 7 days\n",
        "        if len(recent_trend_data) >= 2:\n",
        "            # X = day index, Y = HRV values\n",
        "            X = np.array(range(len(recent_trend_data))).reshape(-1, 1)\n",
        "            Y = recent_trend_data['RMSSD (ms)'].values.reshape(-1, 1)\n",
        "            model = LinearRegression().fit(X, Y)\n",
        "            recent_trend_slope = model.coef_[0][0]\n",
        "        else:\n",
        "            recent_trend_slope = 0\n",
        "\n",
        "        hrv_modulation_adjustment = (recent_trend_slope - baseline_hrv) / baseline_hrv if baseline_hrv > 0 else 0\n",
        "\n",
        "        hrv_modulation_metrics[date] = hrv_modulation_adjustment\n",
        "\n",
        "    return hrv_modulation_metrics"
      ]
    },
    {
      "cell_type": "code",
      "execution_count": 14,
      "metadata": {},
      "outputs": [],
      "source": [
        "# Part 8: Comprehensive Recovery Score Calculation with Dynamic Weight Adjustment\n",
        "def calculate_comprehensive_recovery_score(hrv_score, rhr_score, sleep_score, wellness_score, training_modulation, hrv_modulation):\n",
        "    recovery_scores = {}\n",
        "\n",
        "    for date in hrv_score.keys():\n",
        "        # Prepare a list of available factors and their corresponding weights\n",
        "        available_factors = []\n",
        "        available_weights = []\n",
        "\n",
        "        # Add factors and weights only if the factor is available for the current date\n",
        "        if date in hrv_score:\n",
        "            available_factors.append(hrv_score[date])\n",
        "            available_weights.append(0.4)\n",
        "\n",
        "        if date in rhr_score:\n",
        "            available_factors.append(rhr_score[date])\n",
        "            available_weights.append(0.3)\n",
        "\n",
        "        if date in sleep_score:\n",
        "            available_factors.append(sleep_score[date])\n",
        "            available_weights.append(0.3)\n",
        "\n",
        "        if date in wellness_score:\n",
        "            available_factors.append(wellness_score[date])\n",
        "            available_weights.append(0.2)\n",
        "\n",
        "        if date in training_modulation:\n",
        "            available_factors.append(training_modulation[date])\n",
        "            available_weights.append(0.1)\n",
        "\n",
        "        if date in hrv_modulation:\n",
        "            available_factors.append(hrv_modulation[date])\n",
        "            available_weights.append(0.1)\n",
        "\n",
        "        # Recalculate the weights so they sum up to 1 (100%)\n",
        "        total_weight = sum(available_weights)\n",
        "        normalized_weights = [w / total_weight for w in available_weights]\n",
        "\n",
        "        # Calculate the comprehensive recovery score using the normalized weights\n",
        "        comprehensive_recovery_score = sum(factor * weight for factor, weight in zip(available_factors, normalized_weights))\n",
        "\n",
        "        # Store the result for this date\n",
        "        recovery_scores[date] = comprehensive_recovery_score\n",
        "\n",
        "    return recovery_scores"
      ]
    },
    {
      "cell_type": "code",
      "execution_count": 47,
      "metadata": {},
      "outputs": [],
      "source": [
        "# Sheet paths\n",
        "file_path_hrv = r'C:\\Users\\amank\\Downloads\\Fithack\\Recovery\\vitality_extract_data.xlsx'\n",
        "file_path_baseline_hrv = r'C:\\Users\\amank\\Downloads\\Fithack\\Recovery\\baseline_hrv_output.xlsx'\n",
        "file_path_prophrv = r'C:\\Users\\amank\\Downloads\\Fithack\\Recovery\\PropHRV.xlsx'\n",
        "file_path_rhr = r'C:\\Users\\amank\\Downloads\\Fithack\\Recovery\\baseline_rhr_output.xlsx'\n",
        "file_path_sleep = r'C:\\Users\\amank\\Downloads\\Fithack\\Recovery\\sleep_extract.xlsx'"
      ]
    },
    {
      "cell_type": "code",
      "execution_count": 48,
      "metadata": {},
      "outputs": [],
      "source": [
        "#calculate hrv recovery score and rhr recovery score\n",
        "hrv_data = fetch_data(file_path_baseline_hrv, 'Sheet1')\n",
        "lf_hf_data = fetch_data(file_path_prophrv, 'VPropHRVFrequency')\n",
        "rhr_data = fetch_data(file_path_rhr, 'Sheet1')\n",
        "merged_data = pd.merge(hrv_data, lf_hf_data[['startDate', 'LF/HF Ratio']], on='startDate', how='inner')\n",
        "\n",
        "# Baselines\n",
        "baseline_sdnn = merged_data['SDNN (ms)'].mean()\n",
        "baseline_rmssd = merged_data['RMSSD (ms)'].mean()\n",
        "baseline_rhr = rhr_data['baseline_rhr'].mean()\n",
        "baseline_hrv = hrv_data['baseline_hrv'].mean()\n",
        "hrv_recovery_score = calculate_hrv_recovery_score(merged_data, baseline_sdnn, baseline_rmssd)\n",
        "rhr_recovery_score = calculate_rhr_recovery_score(rhr_data, baseline_rhr)"
      ]
    },
    {
      "cell_type": "code",
      "execution_count": 30,
      "metadata": {},
      "outputs": [],
      "source": [
        "hrv_recovery_score_df = pd.DataFrame(list(hrv_recovery_score.items()), columns=['date', 'hrv_recovery_score'])\n",
        "hrv_recovery_score_df['date'] = pd.to_datetime(hrv_recovery_score_df['date'])\n",
        "hrv_recovery_score_df.to_excel(r'C:\\Users\\amank\\Downloads\\Fithack\\Recovery\\hrv_recovery_score.xlsx', index=False)"
      ]
    },
    {
      "cell_type": "code",
      "execution_count": 32,
      "metadata": {},
      "outputs": [],
      "source": [
        "rhr_recovery_score_df = pd.DataFrame(list(rhr_recovery_score.items()), columns=['date', 'rhr_recovery_score'])\n",
        "rhr_recovery_score_df['date'] = pd.to_datetime(rhr_recovery_score_df['date'])\n",
        "rhr_recovery_score_df.to_excel(r'C:\\Users\\amank\\Downloads\\Fithack\\Recovery\\rhr_recovery_score.xlsx', index=False)"
      ]
    },
    {
      "cell_type": "code",
      "execution_count": 17,
      "metadata": {},
      "outputs": [],
      "source": [
        "#sleep recovery score\n",
        "sleep_data_pivot = fetch_data(file_path_sleep, 'Pivot Table')\n",
        "header_row_values = [\n",
        "    \"Row Labels\", \"TotalAwakeDuration\", \"TotalCoreSleepDuration\", \n",
        "    \"TotalDeepSleepDuration\", \"TotalInBedDuration\", \n",
        "    \"TotalREMSleepDuration\", \"TotalSleepDuration\", \"(blank)\", \"Grand Total\"\n",
        "]\n",
        "header_row_index = sleep_data_pivot[sleep_data_pivot.iloc[:, 0] == header_row_values[0]].index[0]\n",
        "sleep_data_pivot.columns = sleep_data_pivot.iloc[header_row_index]\n",
        "sleep_data_pivot = sleep_data_pivot.iloc[header_row_index + 1:].reset_index(drop=True)\n",
        "sleep_data_waso = fetch_data(file_path_sleep, 'S_WASO_Agg')\n",
        "sleep_data_sol = fetch_data(file_path_sleep, 'S_OnsetLatency_Agg')\n",
        "\n",
        "\n",
        "sleep_data_pivot['date'] = pd.to_datetime(sleep_data_pivot['Row Labels'] + \"-2024\", format=\"%d-%b-%Y\", errors='coerce')\n",
        "sleep_data_pivot = sleep_data_pivot.sort_values(by='date', ascending=False)\n",
        "\n",
        "sleep_data_sol.rename(columns={'value': 'SOL'}, inplace=True)\n",
        "sleep_data_waso.rename(columns={'value': 'WASO'}, inplace=True)\n",
        "merged_sleep_data = pd.merge(sleep_data_pivot, sleep_data_sol[sleep_data_sol['valueType'] == 'SleepOnsetLatency'][['date', 'SOL']], on = 'date', how=\"inner\")\n",
        "merged_sleep_data = pd.merge(merged_sleep_data, sleep_data_waso[['date','WASO']], on = 'date', how=\"inner\")\n",
        "\n",
        "sleep_recovery_score = calculate_sleep_recovery_score(merged_sleep_data)"
      ]
    },
    {
      "cell_type": "code",
      "execution_count": 34,
      "metadata": {},
      "outputs": [],
      "source": [
        "sleep_recovery_score_df = pd.DataFrame(list(sleep_recovery_score.items()), columns=['date', 'sleep_recovery_score'])\n",
        "sleep_recovery_score_df['date'] = pd.to_datetime(sleep_recovery_score_df['date'])\n",
        "sleep_recovery_score_df.to_excel(r'C:\\Users\\amank\\Downloads\\Fithack\\Recovery\\sleep_recovery_score.xlsx', index=False)"
      ]
    },
    {
      "cell_type": "code",
      "execution_count": 51,
      "metadata": {},
      "outputs": [],
      "source": [
        "# HRV Modulation Adjustment Calculation\n",
        "hrv_modulation = calculate_hrv_modulation_adjustment(hrv_data, baseline_hrv)"
      ]
    },
    {
      "cell_type": "code",
      "execution_count": 53,
      "metadata": {},
      "outputs": [
        {
          "name": "stdout",
          "output_type": "stream",
          "text": [
            "{Timestamp('2024-09-19 00:00:00'): -1.1547109908453395, Timestamp('2024-09-18 00:00:00'): -1.1547109908453395, Timestamp('2024-09-17 00:00:00'): -1.1547109908453395, Timestamp('2024-09-16 00:00:00'): -1.1547109908453395, Timestamp('2024-09-15 00:00:00'): -1.1547109908453395, Timestamp('2024-09-14 00:00:00'): -1.1547109908453395, Timestamp('2024-09-13 00:00:00'): -1.1547109908453395, Timestamp('2024-09-12 00:00:00'): -1.1547109908453395, Timestamp('2024-09-11 00:00:00'): -1.1547109908453395, Timestamp('2024-09-10 00:00:00'): -1.1547109908453395, Timestamp('2024-09-09 00:00:00'): -1.1547109908453395, Timestamp('2024-09-08 00:00:00'): -1.1547109908453395, Timestamp('2024-09-07 00:00:00'): -1.1547109908453395, Timestamp('2024-09-06 00:00:00'): -1.1547109908453395, Timestamp('2024-09-05 00:00:00'): -1.1547109908453395, Timestamp('2024-09-04 00:00:00'): -1.1547109908453395, Timestamp('2024-09-03 00:00:00'): -1.1547109908453395, Timestamp('2024-09-02 00:00:00'): -1.1547109908453395, Timestamp('2024-09-01 00:00:00'): -1.1547109908453395, Timestamp('2024-08-31 00:00:00'): -1.1547109908453395, Timestamp('2024-08-30 00:00:00'): -1.1547109908453395, Timestamp('2024-08-29 00:00:00'): -1.1547109908453395, Timestamp('2024-08-28 00:00:00'): -1.1547109908453395, Timestamp('2024-08-27 00:00:00'): -1.1547109908453395, Timestamp('2024-08-26 00:00:00'): -1.1547109908453395, Timestamp('2024-08-25 00:00:00'): -1.1547109908453395, Timestamp('2024-08-24 00:00:00'): -1.1547109908453395, Timestamp('2024-08-23 00:00:00'): -1.1547109908453395, Timestamp('2024-08-22 00:00:00'): -1.1547109908453395, Timestamp('2024-08-21 00:00:00'): -1.1547109908453395, Timestamp('2024-08-20 00:00:00'): -1.1547109908453395, Timestamp('2024-08-19 00:00:00'): -1.1547109908453395, Timestamp('2024-08-18 00:00:00'): -1.1547109908453395, Timestamp('2024-08-17 00:00:00'): -1.1547109908453395, Timestamp('2024-08-16 00:00:00'): -1.1547109908453395, Timestamp('2024-08-15 00:00:00'): -1.1547109908453395, Timestamp('2024-08-14 00:00:00'): -1.1547109908453395, Timestamp('2024-08-13 00:00:00'): -1.1547109908453395, Timestamp('2024-08-12 00:00:00'): -1.1547109908453395, Timestamp('2024-08-11 00:00:00'): -1.1547109908453395, Timestamp('2024-08-10 00:00:00'): -1.1547109908453395, Timestamp('2024-08-09 00:00:00'): -1.1547109908453395, Timestamp('2024-08-08 00:00:00'): -1.1547109908453395, Timestamp('2024-08-07 00:00:00'): -1.1547109908453395, Timestamp('2024-08-06 00:00:00'): -1.1547109908453395, Timestamp('2024-08-05 00:00:00'): -1.1547109908453395, Timestamp('2024-08-04 00:00:00'): -1.1547109908453395, Timestamp('2024-08-03 00:00:00'): -1.1547109908453395, Timestamp('2024-08-02 00:00:00'): -1.1547109908453395, Timestamp('2024-08-01 00:00:00'): -1.1547109908453395, Timestamp('2024-07-31 00:00:00'): -1.1547109908453395, Timestamp('2024-07-30 00:00:00'): -1.1547109908453395, Timestamp('2024-07-29 00:00:00'): -1.1547109908453395, Timestamp('2024-07-28 00:00:00'): -1.1547109908453395, Timestamp('2024-07-27 00:00:00'): -1.1547109908453395, Timestamp('2024-07-26 00:00:00'): -1.1547109908453395, Timestamp('2024-07-25 00:00:00'): -1.1547109908453395, Timestamp('2024-07-24 00:00:00'): -1.1547109908453395, Timestamp('2024-07-23 00:00:00'): -1.1547109908453395, Timestamp('2024-07-22 00:00:00'): -1.1547109908453395, Timestamp('2024-07-21 00:00:00'): -1.1547109908453395, Timestamp('2024-07-20 00:00:00'): -1.1547109908453395, Timestamp('2024-07-19 00:00:00'): -1.1547109908453395, Timestamp('2024-07-18 00:00:00'): -1.1547109908453395, Timestamp('2024-07-17 00:00:00'): -1.1547109908453395, Timestamp('2024-07-16 00:00:00'): -1.1547109908453395, Timestamp('2024-07-15 00:00:00'): -1.1547109908453395, Timestamp('2024-07-14 00:00:00'): -1.1547109908453395, Timestamp('2024-07-13 00:00:00'): -1.1547109908453395, Timestamp('2024-07-12 00:00:00'): -1.1547109908453395, Timestamp('2024-07-11 00:00:00'): -1.1547109908453395, Timestamp('2024-07-10 00:00:00'): -1.1547109908453395, Timestamp('2024-07-09 00:00:00'): -1.1547109908453395, Timestamp('2024-07-08 00:00:00'): -1.1547109908453395, Timestamp('2024-07-07 00:00:00'): -1.1547109908453395, Timestamp('2024-07-06 00:00:00'): -1.1547109908453395, Timestamp('2024-07-05 00:00:00'): -1.1547109908453395, Timestamp('2024-07-04 00:00:00'): -1.1547109908453395, Timestamp('2024-07-03 00:00:00'): -1.1547109908453395, Timestamp('2024-07-02 00:00:00'): -1.1547109908453395, Timestamp('2024-07-01 00:00:00'): -1.1547109908453395, Timestamp('2024-06-30 00:00:00'): -1.1547109908453395, Timestamp('2024-06-29 00:00:00'): -1.1547109908453395, Timestamp('2024-06-28 00:00:00'): -1.1547109908453395, Timestamp('2024-06-27 00:00:00'): -1.1547109908453395, Timestamp('2024-06-26 00:00:00'): -1.1547109908453395, Timestamp('2024-06-25 00:00:00'): -1.1547109908453395, Timestamp('2024-06-24 00:00:00'): -1.1547109908453395, Timestamp('2024-06-23 00:00:00'): -1.1547109908453395, Timestamp('2024-06-22 00:00:00'): -1.1547109908453395, Timestamp('2024-06-21 00:00:00'): -1.1547109908453395}\n"
          ]
        }
      ],
      "source": [
        "print(hrv_modulation)"
      ]
    },
    {
      "cell_type": "code",
      "execution_count": 59,
      "metadata": {},
      "outputs": [],
      "source": [
        "hrv_modulation_df = pd.DataFrame(list(hrv_modulation.items()), columns=['date', 'hrv_modulation'])\n",
        "hrv_modulation_df['date'] = pd.to_datetime(hrv_modulation_df['date'])\n",
        "hrv_modulation_df.to_excel(r'C:\\Users\\amank\\Downloads\\Fithack\\Recovery\\hrv_modulation.xlsx', index=False)"
      ]
    },
    {
      "cell_type": "code",
      "execution_count": 58,
      "metadata": {},
      "outputs": [],
      "source": [
        "comprehensive_recovery_score = calculate_comprehensive_recovery_score(hrv_recovery_score, rhr_recovery_score, sleep_recovery_score, dummy_wellness_recovery_score,dummy_training_load_modulation , hrv_modulation)\n",
        "comprehensive_recovery_score_df = pd.DataFrame(list(comprehensive_recovery_score.items()), columns=['date', 'comprehensive_recovery_score'])\n",
        "comprehensive_recovery_score_df['date'] = pd.to_datetime(comprehensive_recovery_score_df['date'])\n",
        "comprehensive_recovery_score_df.to_excel(r'C:\\Users\\amank\\Downloads\\Fithack\\Recovery\\comprehensive_recovery_score.xlsx', index=False)"
      ]
    },
    {
      "cell_type": "code",
      "execution_count": null,
      "metadata": {},
      "outputs": [],
      "source": []
    },
    {
      "cell_type": "code",
      "execution_count": null,
      "metadata": {
        "id": "JsfHAtqTdDeO"
      },
      "outputs": [],
      "source": [
        "\n",
        "\n",
        "# print(merged_sleep_data)\n",
        "# wellness_data = fetch_data(file_path, 'WellnessData')\n",
        "# load_data = fetch_data(file_path, 'LoadData')\n",
        "# strain_data = fetch_data(file_path, 'StrainData')\n",
        "\n",
        "\n",
        "\n",
        "\n",
        "# Calculate individual recovery scores\n",
        "\n",
        "\n",
        "\n",
        "# wellness_recovery_score = calculate_wellness_recovery_score(wellness_data)\n",
        "# training_load_modulation = calculate_training_load_modulation(load_data, strain_data)\n",
        "# hrv_modulation_adjustment = calculate_hrv_modulation_adjustment(hrv_data, baseline_hrv)\n",
        "\n",
        "# Calculate comprehensive recovery score\n",
        "# comprehensive_recovery_score = calculate_comprehensive_recovery_score(\n",
        "#     hrv_recovery_score, rhr_recovery_score, sleep_recovery_score, wellness_recovery_score,\n",
        "#     training_load_modulation, hrv_modulation_adjustment\n",
        "# )\n",
        "\n",
        "# Output the final scores\n",
        "# comprehensive_recovery_df = pd.DataFrame.from_dict(comprehensive_recovery_score, orient='index', columns=['Comprehensive Recovery Score'])\n",
        "# print(comprehensive_recovery_df)"
      ]
    },
    {
      "cell_type": "code",
      "execution_count": null,
      "metadata": {},
      "outputs": [],
      "source": []
    }
  ],
  "metadata": {
    "colab": {
      "provenance": []
    },
    "kernelspec": {
      "display_name": "Python 3",
      "name": "python3"
    },
    "language_info": {
      "codemirror_mode": {
        "name": "ipython",
        "version": 3
      },
      "file_extension": ".py",
      "mimetype": "text/x-python",
      "name": "python",
      "nbconvert_exporter": "python",
      "pygments_lexer": "ipython3",
      "version": "3.11.9"
    }
  },
  "nbformat": 4,
  "nbformat_minor": 0
}
